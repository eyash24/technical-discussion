{
  "nbformat": 4,
  "nbformat_minor": 0,
  "metadata": {
    "colab": {
      "provenance": [],
      "authorship_tag": "ABX9TyOlHc/ywUfxmJUXdbi5PHEx",
      "include_colab_link": true
    },
    "kernelspec": {
      "name": "python3",
      "display_name": "Python 3"
    },
    "language_info": {
      "name": "python"
    }
  },
  "cells": [
    {
      "cell_type": "markdown",
      "metadata": {
        "id": "view-in-github",
        "colab_type": "text"
      },
      "source": [
        "<a href=\"https://colab.research.google.com/github/eyash24/technical-discussion/blob/main/technical-colab.ipynb\" target=\"_parent\"><img src=\"https://colab.research.google.com/assets/colab-badge.svg\" alt=\"Open In Colab\"/></a>"
      ]
    },
    {
      "cell_type": "code",
      "execution_count": 1,
      "metadata": {
        "id": "gWnBG09gcPhw"
      },
      "outputs": [],
      "source": [
        "import time"
      ]
    },
    {
      "cell_type": "code",
      "source": [
        "def timer(t1):\n",
        "  print(\"Timer starts!\")\n",
        "  initial_t = time.time()\n",
        "  while True:\n",
        "    # print(time.time())\n",
        "    if ((time.time() - initial_t) >= t1):\n",
        "      print(\"Timer stop!\")\n",
        "      break\n"
      ],
      "metadata": {
        "id": "FPMs-VqLcxP_"
      },
      "execution_count": 13,
      "outputs": []
    },
    {
      "cell_type": "code",
      "source": [
        "timer(3)"
      ],
      "metadata": {
        "colab": {
          "base_uri": "https://localhost:8080/"
        },
        "id": "uaJnacz2eT31",
        "outputId": "9583fcec-0b7c-467c-c2bd-2dedbe6e0a5e"
      },
      "execution_count": 14,
      "outputs": [
        {
          "output_type": "stream",
          "name": "stdout",
          "text": [
            "Timer starts!\n",
            "Timer stop!\n"
          ]
        }
      ]
    },
    {
      "cell_type": "code",
      "source": [
        "def timer2():\n",
        "  in_time = time.time()\n",
        "  while(True):\n",
        "    input_ = input()\n",
        "    if input_:\n",
        "      print(time.time()-in_time)\n",
        "      break\n"
      ],
      "metadata": {
        "id": "BhL6g3Uken8w"
      },
      "execution_count": 16,
      "outputs": []
    },
    {
      "cell_type": "code",
      "source": [
        "timer2()"
      ],
      "metadata": {
        "colab": {
          "base_uri": "https://localhost:8080/"
        },
        "id": "4N1MgktPe26R",
        "outputId": "99321753-f262-4181-c03e-5eef0efa8192"
      },
      "execution_count": 19,
      "outputs": [
        {
          "output_type": "stream",
          "name": "stdout",
          "text": [
            "\n",
            "\n",
            "32\n",
            "8.332973003387451\n"
          ]
        }
      ]
    },
    {
      "cell_type": "code",
      "source": [
        "3"
      ],
      "metadata": {
        "id": "jNdMyiQofSlF"
      },
      "execution_count": null,
      "outputs": []
    }
  ]
}